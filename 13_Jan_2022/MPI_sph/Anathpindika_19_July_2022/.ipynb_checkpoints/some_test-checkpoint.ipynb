{
 "cells": [
  {
   "cell_type": "code",
   "execution_count": 1,
   "id": "4aca4313",
   "metadata": {},
   "outputs": [],
   "source": [
    "import numpy as np"
   ]
  },
  {
   "cell_type": "code",
   "execution_count": null,
   "id": "78e4a9b4",
   "metadata": {},
   "outputs": [],
   "source": []
  },
  {
   "cell_type": "code",
   "execution_count": 7,
   "id": "af402a91",
   "metadata": {},
   "outputs": [],
   "source": [
    "mH = 1.6726e-24 # gram\n",
    "kB = 1.3807e-16  # cm2 g s-2 K-1\n",
    "mH2 = 2.7 * mH\n",
    "const = kB/mH2"
   ]
  },
  {
   "cell_type": "code",
   "execution_count": 9,
   "id": "0cc92eae",
   "metadata": {},
   "outputs": [
    {
     "name": "stdout",
     "output_type": "stream",
     "text": [
      "With c_0 = 17485 km/s, Mach = 1.5 and t = 1.0 Myrs we have d = 26820.757 pc\n"
     ]
    }
   ],
   "source": [
    "T_cld = 10\n",
    "\n",
    "c_0 = (const * T_cld)**0.5\n",
    "\n",
    "#c_0 = 1.07 # km/s\n",
    "c_0 =  # cm/s\n",
    "\n",
    "Myr_in_sec = 1e6 * 365.25 * 24 * 3600 # 1 Myrs in seconds !\n",
    "\n",
    "t = 1.0 * Myr_in_sec\n",
    "\n",
    "Mach = 1.5\n",
    "\n",
    "d = round((Mach * c_0 * t) / 3.086e18, 3) # distance moved in pc\n",
    "\n",
    "print(f'With c_0 = {round(c_0/1e5)} km/s, Mach = {Mach} and t = {t/Myr_in_sec} Myrs we have d = {d} pc')"
   ]
  },
  {
   "cell_type": "code",
   "execution_count": null,
   "id": "dfffb7d7",
   "metadata": {},
   "outputs": [],
   "source": []
  }
 ],
 "metadata": {
  "kernelspec": {
   "display_name": "Python 3 (ipykernel)",
   "language": "python",
   "name": "python3"
  },
  "language_info": {
   "codemirror_mode": {
    "name": "ipython",
    "version": 3
   },
   "file_extension": ".py",
   "mimetype": "text/x-python",
   "name": "python",
   "nbconvert_exporter": "python",
   "pygments_lexer": "ipython3",
   "version": "3.9.7"
  }
 },
 "nbformat": 4,
 "nbformat_minor": 5
}

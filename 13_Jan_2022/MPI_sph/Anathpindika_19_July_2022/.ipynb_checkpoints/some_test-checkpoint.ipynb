{
 "cells": [
  {
   "cell_type": "code",
   "execution_count": 1,
   "id": "941e20e8",
   "metadata": {},
   "outputs": [],
   "source": [
    "import numpy as np"
   ]
  },
  {
   "cell_type": "code",
   "execution_count": null,
   "id": "00325bde",
   "metadata": {},
   "outputs": [],
   "source": []
  },
  {
   "cell_type": "code",
   "execution_count": null,
   "id": "280ef42f",
   "metadata": {},
   "outputs": [],
   "source": [
    "c_0 = 1.07 # km/s\n",
    "c_0 = c_0 * 1e5 # cm/s\n",
    "\n",
    "t = 5.0 * 1e6 * 365.25 * 24 * 3600 # Myrs in seconds !"
   ]
  }
 ],
 "metadata": {
  "kernelspec": {
   "display_name": "Python 3 (ipykernel)",
   "language": "python",
   "name": "python3"
  },
  "language_info": {
   "codemirror_mode": {
    "name": "ipython",
    "version": 3
   },
   "file_extension": ".py",
   "mimetype": "text/x-python",
   "name": "python",
   "nbconvert_exporter": "python",
   "pygments_lexer": "ipython3",
   "version": "3.9.7"
  }
 },
 "nbformat": 4,
 "nbformat_minor": 5
}

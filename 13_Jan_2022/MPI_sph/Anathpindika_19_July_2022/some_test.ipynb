{
 "cells": [
  {
   "cell_type": "code",
   "execution_count": 1,
   "id": "01e11210",
   "metadata": {},
   "outputs": [],
   "source": [
    "import numpy as np"
   ]
  },
  {
   "cell_type": "code",
   "execution_count": null,
   "id": "88bbce2f",
   "metadata": {},
   "outputs": [],
   "source": []
  },
  {
   "cell_type": "code",
   "execution_count": 14,
   "id": "d845af2d",
   "metadata": {},
   "outputs": [],
   "source": [
    "mH = 1.6726e-24 # gram\n",
    "kB = 1.3807e-16  # cm2 g s-2 K-1\n",
    "mH2 = 2.7 * mH\n",
    "const = kB/mH2"
   ]
  },
  {
   "cell_type": "code",
   "execution_count": 20,
   "id": "a40b6067",
   "metadata": {},
   "outputs": [
    {
     "name": "stdout",
     "output_type": "stream",
     "text": [
      "With c_0 = 0.406 km/s, Mach = 25 and t = 0.085 Myrs we have d = 0.883 pc\n"
     ]
    }
   ],
   "source": [
    "T_cld = 54\n",
    "\n",
    "c_0 = (const * T_cld)**0.5\n",
    "\n",
    "Myr_in_sec = 1e6 * 365.25 * 24 * 3600 # 1 Myrs in seconds !\n",
    "\n",
    "t = 0.085 * Myr_in_sec\n",
    "\n",
    "Mach = 25\n",
    "\n",
    "d = round((Mach * c_0 * t) / 3.086e18, 3) # distance moved in pc\n",
    "\n",
    "print(f'With c_0 = {round(c_0/1e5, 3)} km/s, Mach = {Mach} and t = {t/Myr_in_sec} Myrs we have d = {d} pc')"
   ]
  },
  {
   "cell_type": "code",
   "execution_count": null,
   "id": "a8994dee",
   "metadata": {},
   "outputs": [],
   "source": []
  },
  {
   "cell_type": "code",
   "execution_count": null,
   "id": "97fc9626",
   "metadata": {},
   "outputs": [],
   "source": []
  }
 ],
 "metadata": {
  "kernelspec": {
   "display_name": "Python 3 (ipykernel)",
   "language": "python",
   "name": "python3"
  },
  "language_info": {
   "codemirror_mode": {
    "name": "ipython",
    "version": 3
   },
   "file_extension": ".py",
   "mimetype": "text/x-python",
   "name": "python",
   "nbconvert_exporter": "python",
   "pygments_lexer": "ipython3",
   "version": "3.9.7"
  }
 },
 "nbformat": 4,
 "nbformat_minor": 5
}

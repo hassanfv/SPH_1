{
 "cells": [
  {
   "cell_type": "code",
   "execution_count": 1,
   "id": "efc23d9f",
   "metadata": {},
   "outputs": [],
   "source": [
    "import numpy as np"
   ]
  },
  {
   "cell_type": "code",
   "execution_count": null,
   "id": "ae2e3c09",
   "metadata": {},
   "outputs": [],
   "source": []
  },
  {
   "cell_type": "code",
   "execution_count": 6,
   "id": "28c65472",
   "metadata": {},
   "outputs": [
    {
     "name": "stdout",
     "output_type": "stream",
     "text": [
      "With c_0 = 1.07 km/s, Mach = 1.5 and t = 1.0 Myrs we have d = 1.641 pc\n"
     ]
    }
   ],
   "source": [
    "c_0 = 1.07 # km/s\n",
    "c_0 = c_0 * 1e5 # cm/s\n",
    "\n",
    "Myr_in_sec = 1e6 * 365.25 * 24 * 3600 # 1 Myrs in seconds !\n",
    "\n",
    "t = 1.0 * Myr_in_sec\n",
    "\n",
    "Mach = 1.5\n",
    "\n",
    "d = round((Mach * c_0 * t) / 3.086e18, 3) # distance moved in pc\n",
    "\n",
    "print(f'With c_0 = {c_0/1e5} km/s, Mach = {Mach} and t = {t/Myr_in_sec} Myrs we have d = {d} pc')"
   ]
  },
  {
   "cell_type": "code",
   "execution_count": null,
   "id": "8b08c75f",
   "metadata": {},
   "outputs": [],
   "source": []
  }
 ],
 "metadata": {
  "kernelspec": {
   "display_name": "Python 3 (ipykernel)",
   "language": "python",
   "name": "python3"
  },
  "language_info": {
   "codemirror_mode": {
    "name": "ipython",
    "version": 3
   },
   "file_extension": ".py",
   "mimetype": "text/x-python",
   "name": "python",
   "nbconvert_exporter": "python",
   "pygments_lexer": "ipython3",
   "version": "3.9.7"
  }
 },
 "nbformat": 4,
 "nbformat_minor": 5
}

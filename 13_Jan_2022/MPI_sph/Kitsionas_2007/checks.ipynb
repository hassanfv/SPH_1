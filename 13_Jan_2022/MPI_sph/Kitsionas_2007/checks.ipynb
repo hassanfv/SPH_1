{
 "cells": [
  {
   "cell_type": "code",
   "execution_count": 1,
   "id": "c09e16c4",
   "metadata": {},
   "outputs": [],
   "source": [
    "import numpy as np"
   ]
  },
  {
   "cell_type": "code",
   "execution_count": 2,
   "id": "2041ba7d",
   "metadata": {},
   "outputs": [],
   "source": [
    "#---- Speed of Sound ------\n",
    "mH = 1.6726e-24 # gram\n",
    "kB = 1.3807e-16  # cm2 g s-2 K-1\n",
    "\n",
    "# Note that for pure molecular hydrogen mu=2.\n",
    "# For molecular gas with ~10% He by mass and trace metals, mu ~ 2.7 is often used.\n",
    "muu = 2.7\n",
    "mH2 = muu * mH"
   ]
  },
  {
   "cell_type": "code",
   "execution_count": 7,
   "id": "9f7735a8",
   "metadata": {},
   "outputs": [
    {
     "name": "stdout",
     "output_type": "stream",
     "text": [
      "Sound speed (cm/s) =  32711.9\n",
      "Sound speed (m/s) =  327.12\n",
      "Sound speed (km/s) =  0.327\n",
      "\n"
     ]
    }
   ],
   "source": [
    "T_0 = 35. # K, see Table_1 in Anathpindika - 2009 - II\n",
    "\n",
    "c_0 = (kB * T_0 / mH2)**0.5\n",
    "\n",
    "print('Sound speed (cm/s) = ', round(c_0, 2))\n",
    "print('Sound speed (m/s) = ', round(c_0/100., 2))\n",
    "print('Sound speed (km/s) = ', round(c_0/100000., 3))\n",
    "print()\n",
    "#--------------------------"
   ]
  },
  {
   "cell_type": "code",
   "execution_count": 9,
   "id": "af8f5879",
   "metadata": {},
   "outputs": [
    {
     "name": "stdout",
     "output_type": "stream",
     "text": [
      "c_0 = 0.356 km/s.\n"
     ]
    }
   ],
   "source": [
    "M_sun = 1.0\n",
    "M_0 = 10 * M_sun\n",
    "\n",
    "c_0 = 0.2 * (M_0/M_sun)**(1./4.)  # see eq. 2 in Kitsionas et al - 2007.\n",
    "\n",
    "print(f'c_0 = {round(c_0, 3)} km/s.')"
   ]
  },
  {
   "cell_type": "code",
   "execution_count": null,
   "id": "c077b4ab",
   "metadata": {},
   "outputs": [],
   "source": []
  }
 ],
 "metadata": {
  "kernelspec": {
   "display_name": "Python 3 (ipykernel)",
   "language": "python",
   "name": "python3"
  },
  "language_info": {
   "codemirror_mode": {
    "name": "ipython",
    "version": 3
   },
   "file_extension": ".py",
   "mimetype": "text/x-python",
   "name": "python",
   "nbconvert_exporter": "python",
   "pygments_lexer": "ipython3",
   "version": "3.9.7"
  }
 },
 "nbformat": 4,
 "nbformat_minor": 5
}
